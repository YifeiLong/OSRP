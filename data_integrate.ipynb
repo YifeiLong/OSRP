{
 "cells": [
  {
   "cell_type": "code",
   "execution_count": 1,
   "metadata": {
    "collapsed": true
   },
   "outputs": [],
   "source": [
    "import json\n",
    "import random"
   ]
  },
  {
   "cell_type": "code",
   "execution_count": 3,
   "outputs": [
    {
     "name": "stdout",
     "output_type": "stream",
     "text": [
      "Removed categories: [30, 11, 19, 12, 26, 16, 17, 7, 20, 32, 23, 15, 35, 13, 31, 34, 6, 9, 36]\n",
      "Original train data length: 2944\n",
      "Original val data length: 736\n",
      "New train data length: 1437\n",
      "New val data length: 359\n"
     ]
    },
    {
     "name": "stderr",
     "output_type": "stream",
     "text": [
      "C:\\Users\\86155\\AppData\\Local\\Temp\\ipykernel_12404\\2356773708.py:11: DeprecationWarning: Sampling from a set deprecated\n",
      "since Python 3.9 and will be removed in a subsequent version.\n",
      "  remove_categories = random.sample(categories, 19)\n"
     ]
    }
   ],
   "source": [
    "# oxford pets, 37 classes, roughly 200 images per class\n",
    "# train on 4 classes, test on all 37 classes\n",
    "with open('data/oxford_pets/split_zhou_OxfordPets.json', 'r') as f:\n",
    "    pets = json.load(f)\n",
    "\n",
    "pets_train = pets['train']\n",
    "pets_val = pets['val']\n",
    "categories = set(item[1] for item in pets_train)\n",
    "\n",
    "random.seed(2024)\n",
    "remove_categories = random.sample(categories, 33)\n",
    "\n",
    "new_train_pets = [item for item in pets_train if item[1] not in remove_categories]\n",
    "new_val_pets = [item for item in pets_val if item[1] not in remove_categories]\n",
    "new_test_pets = pets['test']\n",
    "\n",
    "new_data = {\n",
    "    'train': new_train_pets,\n",
    "    'val': new_val_pets,\n",
    "    'test': new_test_pets\n",
    "}\n",
    "\n",
    "with open('data/oxford_pets/split_zhou_OxfordPets_new.json', 'w') as f:\n",
    "    json.dump(new_data, f, indent=4)\n",
    "\n",
    "print(f\"Removed categories: {remove_categories}\")\n",
    "print(f\"Original train data length: {len(pets_train)}\")\n",
    "print(f\"Original val data length: {len(pets_val)}\")\n",
    "print(f\"New train data length: {len(new_train_pets)}\")\n",
    "print(f\"New val data length: {len(new_val_pets)}\")"
   ],
   "metadata": {
    "collapsed": false
   }
  },
  {
   "cell_type": "code",
   "execution_count": 3,
   "outputs": [
    {
     "name": "stdout",
     "output_type": "stream",
     "text": [
      "Removed categories: [30, 11, 37, 19, 12, 26, 16, 34, 15, 31, 22, 41, 33, 13, 43, 21, 40, 2, 23, 24, 6, 36, 27, 28, 14, 20, 4]\n",
      "Original train data length: 2820\n",
      "Original val data length: 1128\n",
      "New train data length: 1200\n",
      "New val data length: 480\n"
     ]
    },
    {
     "name": "stderr",
     "output_type": "stream",
     "text": [
      "C:\\Users\\86155\\AppData\\Local\\Temp\\ipykernel_2272\\2618919246.py:11: DeprecationWarning: Sampling from a set deprecated\n",
      "since Python 3.9 and will be removed in a subsequent version.\n",
      "  remove_categories = random.sample(categories, 27)\n"
     ]
    }
   ],
   "source": [
    "# dtd, 47 classes\n",
    "# train on 5 classes, test on all 47 classes\n",
    "with open('data/dtd/split_zhou_DescribableTextures.json', 'r') as f:\n",
    "    dtd = json.load(f)\n",
    "\n",
    "dtd_train = dtd['train']\n",
    "dtd_val = dtd['val']\n",
    "categories = set(item[1] for item in dtd_train)\n",
    "\n",
    "random.seed(2024)\n",
    "remove_categories = random.sample(categories, 42)\n",
    "\n",
    "new_train_dtd = [item for item in dtd_train if item[1] not in remove_categories]\n",
    "new_val_dtd = [item for item in dtd_val if item[1] not in remove_categories]\n",
    "new_test_dtd = dtd['test']\n",
    "\n",
    "new_data = {\n",
    "    'train': new_train_dtd,\n",
    "    'val': new_val_dtd,\n",
    "    'test': new_test_dtd\n",
    "}\n",
    "\n",
    "with open('data/dtd/split_zhou_DescribableTextures_new.json', 'w') as f:\n",
    "    json.dump(new_data, f, indent=4)\n",
    "\n",
    "print(f\"Removed categories: {remove_categories}\")\n",
    "print(f\"Original train data length: {len(dtd_train)}\")\n",
    "print(f\"Original val data length: {len(dtd_val)}\")\n",
    "print(f\"New train data length: {len(new_train_dtd)}\")\n",
    "print(f\"New val data length: {len(new_val_dtd)}\")"
   ],
   "metadata": {
    "collapsed": false
   }
  },
  {
   "cell_type": "code",
   "execution_count": 4,
   "outputs": [
    {
     "name": "stdout",
     "output_type": "stream",
     "text": [
      "Removed categories: [120, 46, 186, 148, 77, 51, 185, 104, 183, 67, 136, 62, 162, 127, 90, 106, 134, 157, 55, 79, 139, 84, 132, 19, 52, 119, 167, 37, 189, 54, 105, 14, 89, 160, 180, 170, 31, 35, 83, 99, 174, 88, 190, 178, 109, 161, 81, 145, 166, 188, 58, 171, 10, 57, 4, 66, 129, 149, 107, 28, 155, 59, 60, 118, 93, 34, 153, 94, 126, 76, 137, 80, 18, 33, 49, 176, 43, 42, 181, 91, 179, 110, 21, 87, 163, 98, 16, 173, 26, 74, 112, 8, 12, 22, 0, 172, 56, 117, 30, 44, 29, 143, 25, 36, 97, 154, 115, 191, 122, 61, 193, 177, 53, 131, 9, 38, 124, 158, 17, 72, 32, 85, 103, 63, 27, 82, 121, 102, 65, 169, 40, 45, 5, 168, 142, 111, 187, 130, 24, 47, 194, 150, 141, 7, 164, 3]\n",
      "Original train data length: 6509\n",
      "Original val data length: 1635\n",
      "New train data length: 1631\n",
      "New val data length: 411\n"
     ]
    },
    {
     "name": "stderr",
     "output_type": "stream",
     "text": [
      "C:\\Users\\86155\\AppData\\Local\\Temp\\ipykernel_2272\\3990892698.py:11: DeprecationWarning: Sampling from a set deprecated\n",
      "since Python 3.9 and will be removed in a subsequent version.\n",
      "  remove_categories = random.sample(categories, 146)\n"
     ]
    }
   ],
   "source": [
    "# stanford_cars\n",
    "# train on 20 classes, test on all 196 classes\n",
    "with open('data/stanford_cars/split_zhou_StanfordCars.json', 'r') as f:\n",
    "    car = json.load(f)\n",
    "\n",
    "car_train = car['train']\n",
    "car_val = car['val']\n",
    "categories = set(item[1] for item in car_train)\n",
    "\n",
    "random.seed(2024)\n",
    "remove_categories = random.sample(categories, 176)\n",
    "\n",
    "new_train_car = [item for item in car_train if item[1] not in remove_categories]\n",
    "new_val_car = [item for item in car_val if item[1] not in remove_categories]\n",
    "new_test_car = car['test']\n",
    "\n",
    "new_data = {\n",
    "    'train': new_train_car,\n",
    "    'val': new_val_car,\n",
    "    'test': new_test_car\n",
    "}\n",
    "\n",
    "with open('data/stanford_cars/split_zhou_StanfordCars_new.json', 'w') as f:\n",
    "    json.dump(new_data, f, indent=4)\n",
    "\n",
    "print(f\"Removed categories: {remove_categories}\")\n",
    "print(f\"Original train data length: {len(car_train)}\")\n",
    "print(f\"Original val data length: {len(car_val)}\")\n",
    "print(f\"New train data length: {len(new_train_car)}\")\n",
    "print(f\"New val data length: {len(new_val_car)}\")"
   ],
   "metadata": {
    "collapsed": false
   }
  },
  {
   "cell_type": "code",
   "execution_count": 2,
   "outputs": [],
   "source": [
    "def process_file(input_file, output_file, selected_class):\n",
    "    with open(input_file, 'r') as infile, open(output_file, 'w') as outfile:\n",
    "        for line in infile:\n",
    "            parts = line.strip().split()\n",
    "            if len(parts) == 2 and parts[1] in selected_class:\n",
    "                outfile.write(line)"
   ],
   "metadata": {
    "collapsed": false
   }
  },
  {
   "cell_type": "code",
   "execution_count": 3,
   "outputs": [],
   "source": [
    "# fgvc_aircraft\n",
    "# train on 10 classes, test on all 100 classes\n",
    "random.seed(2024)\n",
    "with open('./data/fgvc_aircraft/variants.txt', 'r') as f:\n",
    "    all_classes = [line.strip() for line in f.readlines()]\n",
    "\n",
    "selected_classes = random.sample(all_classes, 10)\n",
    "selected_classes_set = set(selected_classes)\n",
    "\n",
    "process_file('./data/fgvc_aircraft/images_variant_train.txt', './data/fgvc_aircraft/images_variant_train_new.txt', selected_classes_set)\n",
    "process_file('./data/fgvc_aircraft/images_variant_val.txt', './data/fgvc_aircraft/images_variant_val_new.txt', selected_classes_set)"
   ],
   "metadata": {
    "collapsed": false
   }
  },
  {
   "cell_type": "code",
   "execution_count": 2,
   "outputs": [
    {
     "name": "stderr",
     "output_type": "stream",
     "text": [
      "C:\\Users\\86155\\AppData\\Local\\Temp\\ipykernel_11256\\1197902946.py:11: DeprecationWarning: Sampling from a set deprecated\n",
      "since Python 3.9 and will be removed in a subsequent version.\n",
      "  remove_categories = random.sample(categories, 96)\n"
     ]
    },
    {
     "name": "stdout",
     "output_type": "stream",
     "text": [
      "Removed categories: [60, 23, 93, 74, 38, 25, 92, 52, 91, 33, 68, 31, 81, 63, 45, 53, 67, 78, 27, 39, 69, 42, 66, 9, 26, 59, 18, 90, 82, 98, 7, 44, 85, 75, 15, 17, 41, 49, 21, 22, 50, 12, 20, 72, 76, 58, 36, 13, 56, 14, 73, 2, 47, 51, 1, 16, 32, 55, 54, 71, 88, 70, 62, 48, 83, 29, 99, 8, 84, 34, 79, 19, 64, 43, 4, 94, 80, 35, 10, 61, 37, 5, 28, 96, 6, 87, 46, 100, 30, 0, 24, 40, 3, 89, 57, 11]\n",
      "Original train data length: 50500\n",
      "Original val data length: 20200\n",
      "New train data length: 2500\n",
      "New val data length: 1000\n"
     ]
    }
   ],
   "source": [
    "# food-101\n",
    "# train on 11 classes, test on all 101 classes\n",
    "with open('data/food-101/split_zhou_Food101.json', 'r') as f:\n",
    "    food = json.load(f)\n",
    "\n",
    "food_train = food['train']\n",
    "food_val = food['val']\n",
    "categories = set(item[1] for item in food_train)\n",
    "\n",
    "random.seed(2024)\n",
    "remove_categories = random.sample(categories, 90)\n",
    "\n",
    "new_train_food = [item for item in food_train if item[1] not in remove_categories]\n",
    "new_val_food = [item for item in food_val if item[1] not in remove_categories]\n",
    "\n",
    "new_data = {\n",
    "    'train': new_train_food,\n",
    "    'val': new_val_food,\n",
    "    'test': food['test']\n",
    "}\n",
    "\n",
    "with open('data/food-101/split_zhou_Food101_new.json', 'w') as f:\n",
    "    json.dump(new_data, f, indent=4)\n",
    "\n",
    "print(f\"Removed categories: {remove_categories}\")\n",
    "print(f\"Original train data length: {len(food_train)}\")\n",
    "print(f\"Original val data length: {len(food_val)}\")\n",
    "print(f\"New train data length: {len(new_train_food)}\")\n",
    "print(f\"New val data length: {len(new_val_food)}\")"
   ],
   "metadata": {
    "collapsed": false
   }
  },
  {
   "cell_type": "code",
   "execution_count": 3,
   "outputs": [
    {
     "name": "stdout",
     "output_type": "stream",
     "text": [
      "Removed categories: [60, 23, 93, 74, 38, 25, 92, 52, 91, 33, 68, 31, 81, 63, 45, 53, 67, 78, 27, 39, 69, 42, 66, 9, 26, 59, 18, 99, 83, 94, 7, 44, 86, 76, 15, 17, 41, 49, 80, 22, 50, 12, 20, 73, 77, 98, 36, 13, 57, 14, 54, 2, 47, 72, 1, 16, 32, 56, 55, 89, 82, 71, 21, 97, 48, 85, 29, 100, 8, 101, 34, 43, 19, 88, 70, 4, 95, 87, 35, 10, 62, 37, 5, 28, 65, 6, 61, 64, 51, 30, 0, 24, 40, 3, 90, 58]\n",
      "Original train data length: 4093\n",
      "Original val data length: 1633\n",
      "New train data length: 249\n",
      "New val data length: 98\n"
     ]
    },
    {
     "name": "stderr",
     "output_type": "stream",
     "text": [
      "C:\\Users\\86155\\AppData\\Local\\Temp\\ipykernel_11256\\616892614.py:11: DeprecationWarning: Sampling from a set deprecated\n",
      "since Python 3.9 and will be removed in a subsequent version.\n",
      "  remove_categories = random.sample(categories, 96)\n"
     ]
    }
   ],
   "source": [
    "# oxford_flowers\n",
    "# train on 11 classes, test on all 101 classes\n",
    "with open('data/oxford_flowers/split_zhou_OxfordFlowers.json', 'r') as f:\n",
    "    flower = json.load(f)\n",
    "\n",
    "flower_train = flower['train']\n",
    "flower_val = flower['val']\n",
    "categories = set(item[1] for item in flower_train)\n",
    "\n",
    "random.seed(2024)\n",
    "remove_categories = random.sample(categories, 90)\n",
    "\n",
    "new_train_flower = [item for item in flower_train if item[1] not in remove_categories]\n",
    "new_val_flower = [item for item in flower_val if item[1] not in remove_categories]\n",
    "\n",
    "new_data = {\n",
    "    'train': new_train_flower,\n",
    "    'val': new_val_flower,\n",
    "    'test': flower['test']\n",
    "}\n",
    "\n",
    "with open('data/oxford_flowers/split_zhou_OxfordFlowers_new.json', 'w') as f:\n",
    "    json.dump(new_data, f, indent=4)\n",
    "\n",
    "print(f\"Removed categories: {remove_categories}\")\n",
    "print(f\"Original train data length: {len(flower_train)}\")\n",
    "print(f\"Original val data length: {len(flower_val)}\")\n",
    "print(f\"New train data length: {len(new_train_flower)}\")\n",
    "print(f\"New val data length: {len(new_val_flower)}\")"
   ],
   "metadata": {
    "collapsed": false
   }
  },
  {
   "cell_type": "code",
   "execution_count": 4,
   "outputs": [
    {
     "name": "stdout",
     "output_type": "stream",
     "text": [
      "Removed categories: [60, 23, 93, 74, 38, 25, 92, 52, 91, 33, 68, 31, 81, 63, 45, 53, 67, 78, 27, 39, 69, 42, 66, 9, 26, 59, 18, 90, 82, 98, 7, 44, 85, 75, 15, 17, 41, 49, 21, 22, 50, 12, 20, 72, 76, 58, 36, 13, 56, 14, 73, 2, 47, 51, 1, 16, 32, 55, 54, 71, 88, 70, 62, 48, 83, 29, 99, 8, 84, 34, 79, 19, 64, 43, 4, 94, 80, 35, 10, 61, 37, 5, 28, 96, 6, 87, 46, 100, 30, 0, 24, 40, 3, 89, 57, 11]\n",
      "Original train data length: 7639\n",
      "Original val data length: 1898\n",
      "New train data length: 355\n",
      "New val data length: 88\n"
     ]
    },
    {
     "name": "stderr",
     "output_type": "stream",
     "text": [
      "C:\\Users\\86155\\AppData\\Local\\Temp\\ipykernel_11256\\2196720556.py:12: DeprecationWarning: Sampling from a set deprecated\n",
      "since Python 3.9 and will be removed in a subsequent version.\n",
      "  remove_categories = random.sample(categories, 96)\n"
     ]
    }
   ],
   "source": [
    "# ucf-101\n",
    "# oxford_flowers\n",
    "# train on 11 classes, test on all 101 classes\n",
    "with open('data/ucf101/split_zhou_UCF101.json', 'r') as f:\n",
    "    ucf = json.load(f)\n",
    "\n",
    "ucf_train = ucf['train']\n",
    "ucf_val = ucf['val']\n",
    "categories = set(item[1] for item in ucf_train)\n",
    "\n",
    "random.seed(2024)\n",
    "remove_categories = random.sample(categories, 90)\n",
    "\n",
    "new_train_ucf = [item for item in ucf_train if item[1] not in remove_categories]\n",
    "new_val_ucf = [item for item in ucf_val if item[1] not in remove_categories]\n",
    "\n",
    "new_data = {\n",
    "    'train': new_train_ucf,\n",
    "    'val': new_val_ucf,\n",
    "    'test': ucf['test']\n",
    "}\n",
    "\n",
    "with open('data/ucf101/split_zhou_UCF101_new.json', 'w') as f:\n",
    "    json.dump(new_data, f, indent=4)\n",
    "\n",
    "print(f\"Removed categories: {remove_categories}\")\n",
    "print(f\"Original train data length: {len(ucf_train)}\")\n",
    "print(f\"Original val data length: {len(ucf_val)}\")\n",
    "print(f\"New train data length: {len(new_train_ucf)}\")\n",
    "print(f\"New val data length: {len(new_val_ucf)}\")"
   ],
   "metadata": {
    "collapsed": false
   }
  }
 ],
 "metadata": {
  "kernelspec": {
   "display_name": "Python 3",
   "language": "python",
   "name": "python3"
  },
  "language_info": {
   "codemirror_mode": {
    "name": "ipython",
    "version": 2
   },
   "file_extension": ".py",
   "mimetype": "text/x-python",
   "name": "python",
   "nbconvert_exporter": "python",
   "pygments_lexer": "ipython2",
   "version": "2.7.6"
  }
 },
 "nbformat": 4,
 "nbformat_minor": 0
}
